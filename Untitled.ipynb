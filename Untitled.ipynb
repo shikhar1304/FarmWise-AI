{
 "cells": [
  {
   "cell_type": "code",
   "execution_count": 3,
   "id": "d5db5c37-6877-4756-9de4-376be3891bf9",
   "metadata": {},
   "outputs": [
    {
     "name": "stdout",
     "output_type": "stream",
     "text": [
      "Defaulting to user installation because normal site-packages is not writeableNote: you may need to restart the kernel to use updated packages.\n",
      "\n",
      "Collecting ultralytics\n",
      "  Downloading ultralytics-8.3.101-py3-none-any.whl.metadata (37 kB)\n",
      "Requirement already satisfied: numpy<=2.1.1,>=1.23.0 in d:\\anaconda3\\lib\\site-packages (from ultralytics) (1.26.4)\n",
      "Requirement already satisfied: matplotlib>=3.3.0 in d:\\anaconda3\\lib\\site-packages (from ultralytics) (3.8.4)\n",
      "Requirement already satisfied: opencv-python>=4.6.0 in d:\\anaconda3\\lib\\site-packages (from ultralytics) (4.10.0.84)\n",
      "Requirement already satisfied: pillow>=7.1.2 in d:\\anaconda3\\lib\\site-packages (from ultralytics) (10.3.0)\n",
      "Requirement already satisfied: pyyaml>=5.3.1 in d:\\anaconda3\\lib\\site-packages (from ultralytics) (6.0.1)\n",
      "Requirement already satisfied: requests>=2.23.0 in d:\\anaconda3\\lib\\site-packages (from ultralytics) (2.32.2)\n",
      "Requirement already satisfied: scipy>=1.4.1 in d:\\anaconda3\\lib\\site-packages (from ultralytics) (1.13.1)\n",
      "Requirement already satisfied: torch>=1.8.0 in d:\\anaconda3\\lib\\site-packages (from ultralytics) (2.5.1)\n",
      "Requirement already satisfied: torchvision>=0.9.0 in d:\\anaconda3\\lib\\site-packages (from ultralytics) (0.20.1)\n",
      "Requirement already satisfied: tqdm>=4.64.0 in d:\\anaconda3\\lib\\site-packages (from ultralytics) (4.66.4)\n",
      "Requirement already satisfied: psutil in d:\\anaconda3\\lib\\site-packages (from ultralytics) (5.9.0)\n",
      "Requirement already satisfied: py-cpuinfo in d:\\anaconda3\\lib\\site-packages (from ultralytics) (9.0.0)\n",
      "Requirement already satisfied: pandas>=1.1.4 in d:\\anaconda3\\lib\\site-packages (from ultralytics) (2.2.2)\n",
      "Requirement already satisfied: seaborn>=0.11.0 in d:\\anaconda3\\lib\\site-packages (from ultralytics) (0.13.2)\n",
      "Collecting ultralytics-thop>=2.0.0 (from ultralytics)\n",
      "  Downloading ultralytics_thop-2.0.14-py3-none-any.whl.metadata (9.4 kB)\n",
      "Requirement already satisfied: contourpy>=1.0.1 in d:\\anaconda3\\lib\\site-packages (from matplotlib>=3.3.0->ultralytics) (1.2.0)\n",
      "Requirement already satisfied: cycler>=0.10 in d:\\anaconda3\\lib\\site-packages (from matplotlib>=3.3.0->ultralytics) (0.11.0)\n",
      "Requirement already satisfied: fonttools>=4.22.0 in d:\\anaconda3\\lib\\site-packages (from matplotlib>=3.3.0->ultralytics) (4.51.0)\n",
      "Requirement already satisfied: kiwisolver>=1.3.1 in d:\\anaconda3\\lib\\site-packages (from matplotlib>=3.3.0->ultralytics) (1.4.4)\n",
      "Requirement already satisfied: packaging>=20.0 in d:\\anaconda3\\lib\\site-packages (from matplotlib>=3.3.0->ultralytics) (23.2)\n",
      "Requirement already satisfied: pyparsing>=2.3.1 in d:\\anaconda3\\lib\\site-packages (from matplotlib>=3.3.0->ultralytics) (3.0.9)\n",
      "Requirement already satisfied: python-dateutil>=2.7 in d:\\anaconda3\\lib\\site-packages (from matplotlib>=3.3.0->ultralytics) (2.9.0.post0)\n",
      "Requirement already satisfied: pytz>=2020.1 in d:\\anaconda3\\lib\\site-packages (from pandas>=1.1.4->ultralytics) (2024.1)\n",
      "Requirement already satisfied: tzdata>=2022.7 in d:\\anaconda3\\lib\\site-packages (from pandas>=1.1.4->ultralytics) (2023.3)\n",
      "Requirement already satisfied: charset-normalizer<4,>=2 in d:\\anaconda3\\lib\\site-packages (from requests>=2.23.0->ultralytics) (2.0.4)\n",
      "Requirement already satisfied: idna<4,>=2.5 in d:\\anaconda3\\lib\\site-packages (from requests>=2.23.0->ultralytics) (3.7)\n",
      "Requirement already satisfied: urllib3<3,>=1.21.1 in d:\\anaconda3\\lib\\site-packages (from requests>=2.23.0->ultralytics) (2.2.2)\n",
      "Requirement already satisfied: certifi>=2017.4.17 in d:\\anaconda3\\lib\\site-packages (from requests>=2.23.0->ultralytics) (2024.8.30)\n",
      "Requirement already satisfied: filelock in d:\\anaconda3\\lib\\site-packages (from torch>=1.8.0->ultralytics) (3.13.1)\n",
      "Requirement already satisfied: typing-extensions>=4.8.0 in d:\\anaconda3\\lib\\site-packages (from torch>=1.8.0->ultralytics) (4.11.0)\n",
      "Requirement already satisfied: networkx in d:\\anaconda3\\lib\\site-packages (from torch>=1.8.0->ultralytics) (3.2.1)\n",
      "Requirement already satisfied: jinja2 in d:\\anaconda3\\lib\\site-packages (from torch>=1.8.0->ultralytics) (3.1.4)\n",
      "Requirement already satisfied: fsspec in d:\\anaconda3\\lib\\site-packages (from torch>=1.8.0->ultralytics) (2024.3.1)\n",
      "Requirement already satisfied: setuptools in d:\\anaconda3\\lib\\site-packages (from torch>=1.8.0->ultralytics) (69.5.1)\n",
      "Requirement already satisfied: sympy==1.13.1 in d:\\anaconda3\\lib\\site-packages (from torch>=1.8.0->ultralytics) (1.13.1)\n",
      "Requirement already satisfied: mpmath<1.4,>=1.1.0 in d:\\anaconda3\\lib\\site-packages (from sympy==1.13.1->torch>=1.8.0->ultralytics) (1.3.0)\n",
      "Requirement already satisfied: colorama in d:\\anaconda3\\lib\\site-packages (from tqdm>=4.64.0->ultralytics) (0.4.6)\n",
      "Requirement already satisfied: six>=1.5 in d:\\anaconda3\\lib\\site-packages (from python-dateutil>=2.7->matplotlib>=3.3.0->ultralytics) (1.16.0)\n",
      "Requirement already satisfied: MarkupSafe>=2.0 in d:\\anaconda3\\lib\\site-packages (from jinja2->torch>=1.8.0->ultralytics) (2.1.3)\n",
      "Downloading ultralytics-8.3.101-py3-none-any.whl (977 kB)\n",
      "   ---------------------------------------- 0.0/977.3 kB ? eta -:--:--\n",
      "   -- ------------------------------------- 61.4/977.3 kB 1.6 MB/s eta 0:00:01\n",
      "   --------- ------------------------------ 235.5/977.3 kB 2.9 MB/s eta 0:00:01\n",
      "   ---------------------------------------  962.6/977.3 kB 7.6 MB/s eta 0:00:01\n",
      "   ---------------------------------------- 977.3/977.3 kB 6.2 MB/s eta 0:00:00\n",
      "Downloading ultralytics_thop-2.0.14-py3-none-any.whl (26 kB)\n",
      "Installing collected packages: ultralytics-thop, ultralytics\n",
      "Successfully installed ultralytics-8.3.101 ultralytics-thop-2.0.14\n"
     ]
    },
    {
     "name": "stderr",
     "output_type": "stream",
     "text": [
      "  WARNING: The scripts ultralytics.exe and yolo.exe are installed in 'C:\\Users\\shikh\\AppData\\Roaming\\Python\\Python312\\Scripts' which is not on PATH.\n",
      "  Consider adding this directory to PATH or, if you prefer to suppress this warning, use --no-warn-script-location.\n"
     ]
    }
   ],
   "source": [
    "pip install ultralytics\n"
   ]
  },
  {
   "cell_type": "code",
   "execution_count": 1,
   "id": "6245451b-7f22-4bd3-99aa-28eaa61f15de",
   "metadata": {},
   "outputs": [
    {
     "name": "stdout",
     "output_type": "stream",
     "text": [
      "True\n",
      "NVIDIA GeForce RTX 4050 Laptop GPU\n"
     ]
    }
   ],
   "source": [
    "import torch\n",
    "print(torch.cuda.is_available())  # Should be True\n",
    "print(torch.cuda.get_device_name(0))  # Your GPU name\n",
    "\n"
   ]
  },
  {
   "cell_type": "code",
   "execution_count": 1,
   "id": "cfbcc74d-301f-46da-b96c-409571401ef5",
   "metadata": {},
   "outputs": [
    {
     "name": "stdout",
     "output_type": "stream",
     "text": [
      "Downloading https://github.com/ultralytics/assets/releases/download/v8.3.0/yolov8s.pt to 'yolov8s.pt'...\n"
     ]
    },
    {
     "name": "stderr",
     "output_type": "stream",
     "text": [
      "100%|███████████████████████████████████████████████████████████████████████████████████████████████████████████████████████████████████████████████████████████████████████████████████████████████| 21.5M/21.5M [00:01<00:00, 17.4MB/s]\n"
     ]
    },
    {
     "name": "stdout",
     "output_type": "stream",
     "text": [
      "Ultralytics 8.3.101  Python-3.12.4 torch-2.6.0+cu118 CUDA:0 (NVIDIA GeForce RTX 4050 Laptop GPU, 6140MiB)\n",
      "\u001b[34m\u001b[1mengine\\trainer: \u001b[0mtask=detect, mode=train, model=yolov8s.pt, data=IP102_YOLOv5/ip102.yaml, epochs=10, time=None, patience=100, batch=8, imgsz=640, save=True, save_period=-1, cache=False, device=None, workers=8, project=None, name=train11, exist_ok=False, pretrained=True, optimizer=auto, verbose=True, seed=0, deterministic=True, single_cls=False, rect=False, cos_lr=False, close_mosaic=10, resume=False, amp=True, fraction=1.0, profile=False, freeze=None, multi_scale=False, overlap_mask=True, mask_ratio=4, dropout=0.0, val=True, split=val, save_json=False, save_hybrid=False, conf=None, iou=0.7, max_det=300, half=False, dnn=False, plots=True, source=None, vid_stride=1, stream_buffer=False, visualize=False, augment=False, agnostic_nms=False, classes=None, retina_masks=False, embed=None, show=False, save_frames=False, save_txt=False, save_conf=False, save_crop=False, show_labels=True, show_conf=True, show_boxes=True, line_width=None, format=torchscript, keras=False, optimize=False, int8=False, dynamic=False, simplify=True, opset=None, workspace=None, nms=False, lr0=0.01, lrf=0.01, momentum=0.937, weight_decay=0.0005, warmup_epochs=3.0, warmup_momentum=0.8, warmup_bias_lr=0.1, box=7.5, cls=0.5, dfl=1.5, pose=12.0, kobj=1.0, nbs=64, hsv_h=0.015, hsv_s=0.7, hsv_v=0.4, degrees=0.0, translate=0.1, scale=0.5, shear=0.0, perspective=0.0, flipud=0.0, fliplr=0.5, bgr=0.0, mosaic=1.0, mixup=0.0, copy_paste=0.0, copy_paste_mode=flip, auto_augment=randaugment, erasing=0.4, crop_fraction=1.0, cfg=None, tracker=botsort.yaml, save_dir=runs\\detect\\train11\n",
      "Overriding model.yaml nc=80 with nc=102\n",
      "\n",
      "                   from  n    params  module                                       arguments                     \n",
      "  0                  -1  1       928  ultralytics.nn.modules.conv.Conv             [3, 32, 3, 2]                 \n",
      "  1                  -1  1     18560  ultralytics.nn.modules.conv.Conv             [32, 64, 3, 2]                \n",
      "  2                  -1  1     29056  ultralytics.nn.modules.block.C2f             [64, 64, 1, True]             \n",
      "  3                  -1  1     73984  ultralytics.nn.modules.conv.Conv             [64, 128, 3, 2]               \n",
      "  4                  -1  2    197632  ultralytics.nn.modules.block.C2f             [128, 128, 2, True]           \n",
      "  5                  -1  1    295424  ultralytics.nn.modules.conv.Conv             [128, 256, 3, 2]              \n",
      "  6                  -1  2    788480  ultralytics.nn.modules.block.C2f             [256, 256, 2, True]           \n",
      "  7                  -1  1   1180672  ultralytics.nn.modules.conv.Conv             [256, 512, 3, 2]              \n",
      "  8                  -1  1   1838080  ultralytics.nn.modules.block.C2f             [512, 512, 1, True]           \n",
      "  9                  -1  1    656896  ultralytics.nn.modules.block.SPPF            [512, 512, 5]                 \n",
      " 10                  -1  1         0  torch.nn.modules.upsampling.Upsample         [None, 2, 'nearest']          \n",
      " 11             [-1, 6]  1         0  ultralytics.nn.modules.conv.Concat           [1]                           \n",
      " 12                  -1  1    591360  ultralytics.nn.modules.block.C2f             [768, 256, 1]                 \n",
      " 13                  -1  1         0  torch.nn.modules.upsampling.Upsample         [None, 2, 'nearest']          \n",
      " 14             [-1, 4]  1         0  ultralytics.nn.modules.conv.Concat           [1]                           \n",
      " 15                  -1  1    148224  ultralytics.nn.modules.block.C2f             [384, 128, 1]                 \n",
      " 16                  -1  1    147712  ultralytics.nn.modules.conv.Conv             [128, 128, 3, 2]              \n",
      " 17            [-1, 12]  1         0  ultralytics.nn.modules.conv.Concat           [1]                           \n",
      " 18                  -1  1    493056  ultralytics.nn.modules.block.C2f             [384, 256, 1]                 \n",
      " 19                  -1  1    590336  ultralytics.nn.modules.conv.Conv             [256, 256, 3, 2]              \n",
      " 20             [-1, 9]  1         0  ultralytics.nn.modules.conv.Concat           [1]                           \n",
      " 21                  -1  1   1969152  ultralytics.nn.modules.block.C2f             [768, 512, 1]                 \n",
      " 22        [15, 18, 21]  1   2155522  ultralytics.nn.modules.head.Detect           [102, [128, 256, 512]]        \n",
      "Model summary: 129 layers, 11,175,074 parameters, 11,175,058 gradients, 28.9 GFLOPs\n",
      "\n",
      "Transferred 349/355 items from pretrained weights\n",
      "\u001b[34m\u001b[1mTensorBoard: \u001b[0mStart with 'tensorboard --logdir runs\\detect\\train11', view at http://localhost:6006/\n",
      "Freezing layer 'model.22.dfl.conv.weight'\n",
      "\u001b[34m\u001b[1mAMP: \u001b[0mrunning Automatic Mixed Precision (AMP) checks...\n",
      "\u001b[34m\u001b[1mAMP: \u001b[0mchecks passed \n"
     ]
    },
    {
     "name": "stderr",
     "output_type": "stream",
     "text": [
      "\u001b[34m\u001b[1mtrain: \u001b[0mScanning D:\\LNMIIT\\sem6\\gdg_muku\\IP102_YOLOv5\\labels\\train.cache... 17646 images, 0 backgrounds, 0 corrupt: 100%|██████████| 17646/17646 [00:00<?, ?it/s]\u001b[0m\n",
      "\u001b[34m\u001b[1mval: \u001b[0mScanning D:\\LNMIIT\\sem6\\gdg_muku\\IP102_YOLOv5\\labels\\val.cache... 1329 images, 0 backgrounds, 0 corrupt: 100%|██████████| 1329/1329 [00:00<?, ?it/s]\u001b[0m\n"
     ]
    },
    {
     "name": "stdout",
     "output_type": "stream",
     "text": [
      "Plotting labels to runs\\detect\\train11\\labels.jpg... \n",
      "\u001b[34m\u001b[1moptimizer:\u001b[0m 'optimizer=auto' found, ignoring 'lr0=0.01' and 'momentum=0.937' and determining best 'optimizer', 'lr0' and 'momentum' automatically... \n",
      "\u001b[34m\u001b[1moptimizer:\u001b[0m AdamW(lr=9.4e-05, momentum=0.9) with parameter groups 57 weight(decay=0.0), 64 weight(decay=0.0005), 63 bias(decay=0.0)\n",
      "\u001b[34m\u001b[1mTensorBoard: \u001b[0mmodel graph visualization added \n",
      "Image sizes 640 train, 640 val\n",
      "Using 8 dataloader workers\n",
      "Logging results to \u001b[1mruns\\detect\\train11\u001b[0m\n",
      "Starting training for 10 epochs...\n",
      "Closing dataloader mosaic\n",
      "\n",
      "      Epoch    GPU_mem   box_loss   cls_loss   dfl_loss  Instances       Size\n"
     ]
    },
    {
     "name": "stderr",
     "output_type": "stream",
     "text": [
      "       1/10      2.15G      1.507      4.776      1.974          6        640: 100%|██████████| 2206/2206 [08:51<00:00,  4.15it/s]\n",
      "                 Class     Images  Instances      Box(P          R      mAP50  mAP50-95): 100%|██████████| 84/84 [00:15<00:00,  5.31it/s]\n"
     ]
    },
    {
     "name": "stdout",
     "output_type": "stream",
     "text": [
      "                   all       1329       1621      0.564      0.167      0.147     0.0899\n",
      "\n",
      "      Epoch    GPU_mem   box_loss   cls_loss   dfl_loss  Instances       Size\n"
     ]
    },
    {
     "name": "stderr",
     "output_type": "stream",
     "text": [
      "       2/10       4.3G      1.337      2.557      1.734          6        640: 100%|██████████| 2206/2206 [06:32<00:00,  5.63it/s]\n",
      "                 Class     Images  Instances      Box(P          R      mAP50  mAP50-95): 100%|██████████| 84/84 [00:13<00:00,  6.09it/s]\n"
     ]
    },
    {
     "name": "stdout",
     "output_type": "stream",
     "text": [
      "                   all       1329       1621      0.609      0.248      0.256      0.156\n",
      "\n",
      "      Epoch    GPU_mem   box_loss   cls_loss   dfl_loss  Instances       Size\n"
     ]
    },
    {
     "name": "stderr",
     "output_type": "stream",
     "text": [
      "       3/10       4.3G      1.299      2.051      1.691          6        640: 100%|██████████| 2206/2206 [06:28<00:00,  5.67it/s]\n",
      "                 Class     Images  Instances      Box(P          R      mAP50  mAP50-95): 100%|██████████| 84/84 [00:13<00:00,  6.13it/s]"
     ]
    },
    {
     "name": "stdout",
     "output_type": "stream",
     "text": [
      "                   all       1329       1621      0.548       0.34       0.34      0.206\n"
     ]
    },
    {
     "name": "stderr",
     "output_type": "stream",
     "text": [
      "\n"
     ]
    },
    {
     "name": "stdout",
     "output_type": "stream",
     "text": [
      "\n",
      "      Epoch    GPU_mem   box_loss   cls_loss   dfl_loss  Instances       Size\n"
     ]
    },
    {
     "name": "stderr",
     "output_type": "stream",
     "text": [
      "       4/10       4.3G      1.264      1.781      1.646          6        640: 100%|██████████| 2206/2206 [06:22<00:00,  5.76it/s]\n",
      "                 Class     Images  Instances      Box(P          R      mAP50  mAP50-95): 100%|██████████| 84/84 [00:14<00:00,  5.94it/s]"
     ]
    },
    {
     "name": "stdout",
     "output_type": "stream",
     "text": [
      "                   all       1329       1621      0.491      0.427      0.388      0.243\n"
     ]
    },
    {
     "name": "stderr",
     "output_type": "stream",
     "text": [
      "\n"
     ]
    },
    {
     "name": "stdout",
     "output_type": "stream",
     "text": [
      "\n",
      "      Epoch    GPU_mem   box_loss   cls_loss   dfl_loss  Instances       Size\n"
     ]
    },
    {
     "name": "stderr",
     "output_type": "stream",
     "text": [
      "       5/10       4.3G      1.228      1.594      1.612          7        640: 100%|██████████| 2206/2206 [06:26<00:00,  5.71it/s]\n",
      "                 Class     Images  Instances      Box(P          R      mAP50  mAP50-95): 100%|██████████| 84/84 [00:14<00:00,  5.97it/s]\n"
     ]
    },
    {
     "name": "stdout",
     "output_type": "stream",
     "text": [
      "                   all       1329       1621        0.5      0.474      0.458      0.276\n",
      "\n",
      "      Epoch    GPU_mem   box_loss   cls_loss   dfl_loss  Instances       Size\n"
     ]
    },
    {
     "name": "stderr",
     "output_type": "stream",
     "text": [
      "       6/10       4.3G      1.202      1.466      1.585         11        640: 100%|██████████| 2206/2206 [06:31<00:00,  5.63it/s]\n",
      "                 Class     Images  Instances      Box(P          R      mAP50  mAP50-95): 100%|██████████| 84/84 [00:14<00:00,  5.77it/s]\n"
     ]
    },
    {
     "name": "stdout",
     "output_type": "stream",
     "text": [
      "                   all       1329       1621       0.48      0.499      0.458      0.281\n",
      "\n",
      "      Epoch    GPU_mem   box_loss   cls_loss   dfl_loss  Instances       Size\n"
     ]
    },
    {
     "name": "stderr",
     "output_type": "stream",
     "text": [
      "       7/10       4.3G      1.175      1.361      1.558          6        640: 100%|██████████| 2206/2206 [06:34<00:00,  5.59it/s]\n",
      "                 Class     Images  Instances      Box(P          R      mAP50  mAP50-95): 100%|██████████| 84/84 [00:14<00:00,  5.78it/s]"
     ]
    },
    {
     "name": "stdout",
     "output_type": "stream",
     "text": [
      "                   all       1329       1621      0.449      0.569      0.513      0.316\n"
     ]
    },
    {
     "name": "stderr",
     "output_type": "stream",
     "text": [
      "\n"
     ]
    },
    {
     "name": "stdout",
     "output_type": "stream",
     "text": [
      "\n",
      "      Epoch    GPU_mem   box_loss   cls_loss   dfl_loss  Instances       Size\n"
     ]
    },
    {
     "name": "stderr",
     "output_type": "stream",
     "text": [
      "       8/10       4.3G      1.152      1.275      1.539          6        640: 100%|██████████| 2206/2206 [06:36<00:00,  5.56it/s]\n",
      "                 Class     Images  Instances      Box(P          R      mAP50  mAP50-95): 100%|██████████| 84/84 [00:14<00:00,  5.77it/s]"
     ]
    },
    {
     "name": "stdout",
     "output_type": "stream",
     "text": [
      "                   all       1329       1621      0.535        0.5      0.549      0.342\n"
     ]
    },
    {
     "name": "stderr",
     "output_type": "stream",
     "text": [
      "\n"
     ]
    },
    {
     "name": "stdout",
     "output_type": "stream",
     "text": [
      "\n",
      "      Epoch    GPU_mem   box_loss   cls_loss   dfl_loss  Instances       Size\n"
     ]
    },
    {
     "name": "stderr",
     "output_type": "stream",
     "text": [
      "       9/10       4.3G      1.128      1.205       1.52          6        640: 100%|██████████| 2206/2206 [06:37<00:00,  5.55it/s]\n",
      "                 Class     Images  Instances      Box(P          R      mAP50  mAP50-95): 100%|██████████| 84/84 [00:13<00:00,  6.08it/s]"
     ]
    },
    {
     "name": "stdout",
     "output_type": "stream",
     "text": [
      "                   all       1329       1621      0.525       0.54      0.552      0.345\n"
     ]
    },
    {
     "name": "stderr",
     "output_type": "stream",
     "text": [
      "\n"
     ]
    },
    {
     "name": "stdout",
     "output_type": "stream",
     "text": [
      "\n",
      "      Epoch    GPU_mem   box_loss   cls_loss   dfl_loss  Instances       Size\n"
     ]
    },
    {
     "name": "stderr",
     "output_type": "stream",
     "text": [
      "      10/10       4.3G      1.111      1.147        1.5          6        640: 100%|██████████| 2206/2206 [06:28<00:00,  5.68it/s]\n",
      "                 Class     Images  Instances      Box(P          R      mAP50  mAP50-95): 100%|██████████| 84/84 [00:14<00:00,  5.88it/s]"
     ]
    },
    {
     "name": "stdout",
     "output_type": "stream",
     "text": [
      "                   all       1329       1621      0.489       0.59      0.561      0.351\n"
     ]
    },
    {
     "name": "stderr",
     "output_type": "stream",
     "text": [
      "\n"
     ]
    },
    {
     "name": "stdout",
     "output_type": "stream",
     "text": [
      "\n",
      "10 epochs completed in 1.206 hours.\n",
      "Optimizer stripped from runs\\detect\\train11\\weights\\last.pt, 22.6MB\n",
      "Optimizer stripped from runs\\detect\\train11\\weights\\best.pt, 22.6MB\n",
      "\n",
      "Validating runs\\detect\\train11\\weights\\best.pt...\n",
      "Ultralytics 8.3.101  Python-3.12.4 torch-2.6.0+cu118 CUDA:0 (NVIDIA GeForce RTX 4050 Laptop GPU, 6140MiB)\n",
      "Model summary (fused): 72 layers, 11,165,058 parameters, 0 gradients, 28.7 GFLOPs\n"
     ]
    },
    {
     "name": "stderr",
     "output_type": "stream",
     "text": [
      "                 Class     Images  Instances      Box(P          R      mAP50  mAP50-95): 100%|██████████| 84/84 [00:13<00:00,  6.04it/s]\n"
     ]
    },
    {
     "name": "stdout",
     "output_type": "stream",
     "text": [
      "                   all       1329       1621      0.488       0.59      0.561      0.351\n",
      "      rice leaf roller         12         13      0.547          1      0.874       0.66\n",
      " rice leaf caterpillar          8          8       0.16      0.217      0.122     0.0887\n",
      "     paddy stem maggot          2          2      0.592      0.777      0.828       0.53\n",
      "    asiatic rice borer         12         13      0.351      0.385      0.521      0.308\n",
      "     yellow rice borer          6          6      0.802          1      0.995      0.689\n",
      "       rice gall midge          7          7      0.579      0.791      0.631      0.296\n",
      "          Rice Stemfly          2          2      0.299        0.5      0.533      0.324\n",
      "    brown plant hopper          8          8      0.307      0.375      0.429      0.245\n",
      "white backed plant hopper          5          5      0.521          1      0.803      0.491\n",
      "small brown plant hopper          4          4      0.256        0.5      0.512      0.358\n",
      "     rice water weevil         11         11      0.431          1      0.601      0.398\n",
      "       rice leafhopper          8          8      0.489       0.75      0.694      0.301\n",
      " grain spreader thrips          1          1          0          0     0.0302      0.016\n",
      "       rice shell pest          3          3      0.356      0.333      0.555      0.267\n",
      "                  grub         31         68      0.874      0.897      0.948      0.457\n",
      "          mole cricket         61         61      0.972          1      0.994      0.668\n",
      "              wireworm         30         33       0.65      0.955       0.85      0.559\n",
      "   white margined moth          3          4      0.235       0.25      0.172      0.148\n",
      "         black cutworm         21         21      0.348      0.939       0.55      0.465\n",
      "         large cutworm         11         14      0.327      0.786      0.331      0.276\n",
      "        yellow cutworm         14         14      0.254      0.268      0.206      0.183\n",
      "            red spider         11         11      0.506      0.909      0.752      0.526\n",
      "            corn borer         30         31      0.587      0.806      0.716      0.501\n",
      "             army worm         14         17      0.324       0.31      0.388      0.257\n",
      "                aphids         62        111      0.459      0.757      0.605      0.322\n",
      "   Potosiabre vitarsis         14         20      0.823      0.699      0.773      0.514\n",
      "           peach borer         17         17      0.607      0.882      0.891      0.607\n",
      "   english grain aphid          9         23      0.286      0.391      0.317      0.165\n",
      "             green bug          2          2          1          0     0.0265     0.0154\n",
      "  bird cherry-oataphid          5          6      0.152      0.333     0.0886      0.061\n",
      "   wheat blossom midge          2          2          1          0      0.501        0.2\n",
      "      penthaleus major          5          5      0.453          1      0.886      0.588\n",
      "longlegged spider mite          4          4      0.491       0.75      0.498      0.204\n",
      "    wheat phloeothrips          6          6      0.236        0.5      0.349      0.231\n",
      "          wheat sawfly         10         11      0.559      0.809      0.761       0.42\n",
      " cerodonta denticornis          2          2      0.318          1      0.398      0.289\n",
      "              beet fly          2          2          0          0      0.181     0.0578\n",
      "           flea beetle         24         27      0.707      0.889      0.866      0.521\n",
      "     cabbage army worm         17         17      0.153      0.256       0.16      0.123\n",
      "        beet army worm         29         29      0.466      0.724       0.57      0.401\n",
      "       Beet spot flies          5          5      0.431        0.8      0.654      0.437\n",
      "           meadow moth          7          8      0.153     0.0953      0.192      0.143\n",
      "           beet weevil         10         11      0.413      0.545      0.574      0.316\n",
      "sericaorient alismots chulsky          6         11      0.648      0.727      0.702      0.313\n",
      "        alfalfa weevil          6          7     0.0664      0.143      0.085     0.0544\n",
      "          flax budworm         29         31      0.301      0.323      0.348       0.24\n",
      "     alfalfa plant bug         16         16      0.451      0.514      0.389      0.178\n",
      "   tarnished plant bug         24         24      0.424      0.542      0.531       0.34\n",
      "           Locustoidea         37         39      0.493      0.667       0.63      0.321\n",
      "          lytta polita         17         21      0.378      0.524      0.379      0.199\n",
      " legume blister beetle         30         32      0.684      0.812       0.75       0.38\n",
      "        blister beetle         65         66      0.636      0.864      0.736      0.384\n",
      "     odontothrips loti          5          5      0.675      0.836      0.858      0.438\n",
      "                Thrips          3          3     0.0981      0.333      0.244      0.185\n",
      "  alfalfa seed chalcid          1          1          1          0     0.0829     0.0746\n",
      "        Pieris canidia          4          4      0.288        0.5      0.271       0.18\n",
      "      Apolygus lucorum          2          2      0.858        0.5      0.828      0.397\n",
      "           Limacodidae          7         30     0.0821     0.0333     0.0834     0.0328\n",
      "   oides decempunctata          9         13      0.856      0.846      0.853       0.43\n",
      "Pseudococcus comstocki Kuwana          4          4      0.589       0.75      0.836       0.46\n",
      "    parathrene regalis          2          2      0.256      0.521      0.695      0.556\n",
      "           Ampelophaga         20         20      0.794       0.95       0.89      0.682\n",
      "    Lycorma delicatula         24         24      0.964      0.958       0.97       0.63\n",
      "           Xylotrechus         11         11      0.585          1      0.995      0.826\n",
      "     Cicadella viridis         14         14      0.591      0.786      0.761      0.488\n",
      "               Miridae         89         89      0.616       0.91      0.759       0.46\n",
      "Trialeurodes vaporariorum          7          7      0.311      0.571      0.423      0.291\n",
      " Erythroneura apicalis          1          1          1          0      0.995      0.895\n",
      "        Papilio xuthus          7          8      0.381      0.848      0.474      0.309\n",
      "Panonchus citri McGregor          3          5      0.498        0.6      0.748      0.436\n",
      "Icerya purchasi Maskell         11         29      0.744      0.828      0.872       0.43\n",
      "    Unaspis yanonensis          2         45       0.56      0.844      0.783      0.308\n",
      "    Ceroplastes rubens          5         26      0.417      0.769      0.712      0.392\n",
      " Chrysomphalus aonidum          3          6       0.41          1      0.995      0.482\n",
      "  Nipaecoccus vastalor          2          2       0.13        0.5      0.137     0.0189\n",
      "Aleurocanthus spiniferus          4         23      0.255      0.304      0.253      0.104\n",
      "Tetradacus c Bactrocera minax           3          7       0.43      0.714      0.707      0.323\n",
      "Dacus dorsalis(Hendel)          8          8      0.352       0.75      0.751      0.563\n",
      "  Bactrocera tsuneonis          2          2          0          0      0.154      0.112\n",
      "       Prodenia litura         29         32       0.48      0.656      0.681      0.427\n",
      "         Adristyrannus          9          9      0.501      0.444      0.502      0.402\n",
      "Phyllocnistis citrella Stainton          2          2          1          0      0.308       0.23\n",
      "  Toxoptera citricidus          1          1          1          0      0.497      0.249\n",
      "    Toxoptera aurantii          2          2      0.515          1      0.663      0.332\n",
      "Scirtothrips dorsalis Hood          5          5      0.234        0.8      0.388      0.256\n",
      "          Dasineura sp          2          2          0          0     0.0259     0.0138\n",
      "Lawana imitata Melichar          9         11      0.573      0.855      0.729      0.542\n",
      "Salurnis marginella Guerr         12         13      0.643      0.769      0.777      0.578\n",
      "Deporaus marginatus Pascoe          4          4      0.344       0.25      0.171      0.102\n",
      "  Chlumetia transversa          4          4      0.463        0.5      0.558      0.508\n",
      "Mango flat beak leafhopper          1          1          1          0    0.00858    0.00686\n",
      "Rhytidodera bowrinii white         10         10      0.729        0.8      0.809      0.609\n",
      " Sternochetus frigidus          4          4      0.275        0.5      0.662       0.48\n",
      "          Cicadellidae        206        210       0.85      0.967      0.957       0.73\n",
      "Speed: 0.2ms preprocess, 3.3ms inference, 0.0ms loss, 1.9ms postprocess per image\n",
      "Results saved to \u001b[1mruns\\detect\\train11\u001b[0m\n"
     ]
    }
   ],
   "source": [
    "from ultralytics import YOLO\n",
    "\n",
    "# Load YOLOv8 model (pretrained on COCO)\n",
    "model = YOLO(\"yolov8s.pt\")\n",
    "\n",
    "# Train the model\n",
    "results = model.train(\n",
    "    data=\"IP102_YOLOv5/ip102.yaml\",  \n",
    "    epochs=10, \n",
    "    imgsz=640, \n",
    "    batch=8,\n",
    "    save=True  # Ensures the best model is saved automatically\n",
    ")"
   ]
  },
  {
   "cell_type": "code",
   "execution_count": 5,
   "id": "8b41e441-6a3f-4aa4-b980-7033179da050",
   "metadata": {},
   "outputs": [
    {
     "name": "stdout",
     "output_type": "stream",
     "text": [
      "Ultralytics 8.3.101  Python-3.12.4 torch-2.6.0+cu118 CUDA:0 (NVIDIA GeForce RTX 4050 Laptop GPU, 6140MiB)\n"
     ]
    },
    {
     "name": "stderr",
     "output_type": "stream",
     "text": [
      "\u001b[34m\u001b[1mval: \u001b[0mScanning D:\\LNMIIT\\sem6\\gdg_muku\\IP102_YOLOv5\\labels\\val.cache... 1329 images, 0 backgrounds, 0 corrupt: 100%|██████████| 1329/1329 [00:00<?, ?it/s]\u001b[0m\n",
      "                 Class     Images  Instances      Box(P          R      mAP50  mAP50-95): 100%|██████████| 167/167 [00:15<00:00, 10.76it/s]\n"
     ]
    },
    {
     "name": "stdout",
     "output_type": "stream",
     "text": [
      "                   all       1329       1621      0.487      0.592       0.56      0.351\n",
      "      rice leaf roller         12         13      0.547          1      0.879      0.663\n",
      " rice leaf caterpillar          8          8      0.165      0.224      0.121     0.0879\n",
      "     paddy stem maggot          2          2      0.595      0.784      0.828       0.53\n",
      "    asiatic rice borer         12         13      0.352      0.385      0.511      0.302\n",
      "     yellow rice borer          6          6        0.8          1      0.995      0.689\n",
      "       rice gall midge          7          7      0.529      0.804      0.615      0.306\n",
      "          Rice Stemfly          2          2      0.297        0.5      0.533      0.324\n",
      "    brown plant hopper          8          8      0.304      0.375      0.364      0.226\n",
      "white backed plant hopper          5          5      0.528          1      0.789      0.491\n",
      "small brown plant hopper          4          4      0.254        0.5      0.537      0.373\n",
      "     rice water weevil         11         11      0.448          1      0.595      0.396\n",
      "       rice leafhopper          8          8      0.486       0.75      0.694      0.301\n",
      " grain spreader thrips          1          1          0          0     0.0302     0.0163\n",
      "       rice shell pest          3          3      0.355      0.333      0.555      0.267\n",
      "                  grub         31         68      0.874      0.897      0.948      0.457\n",
      "          mole cricket         61         61      0.971          1      0.994      0.671\n",
      "              wireworm         30         33       0.65      0.957      0.847      0.558\n",
      "   white margined moth          3          4      0.233       0.25      0.174       0.15\n",
      "         black cutworm         21         21      0.345      0.952      0.545      0.459\n",
      "         large cutworm         11         14      0.321      0.786      0.331      0.275\n",
      "        yellow cutworm         14         14      0.226      0.286      0.204      0.181\n",
      "            red spider         11         11      0.506      0.909      0.752      0.526\n",
      "            corn borer         30         31      0.584      0.806      0.717      0.501\n",
      "             army worm         14         17       0.33      0.319      0.375      0.239\n",
      "                aphids         62        111      0.461       0.77        0.6      0.318\n",
      "   Potosiabre vitarsis         14         20      0.823        0.7      0.772      0.513\n",
      "           peach borer         17         17      0.605      0.882      0.891      0.607\n",
      "   english grain aphid          9         23      0.283      0.391      0.314      0.163\n",
      "             green bug          2          2          1          0     0.0265     0.0154\n",
      "  bird cherry-oataphid          5          6      0.151      0.333     0.0886      0.061\n",
      "   wheat blossom midge          2          2          1          0      0.501        0.2\n",
      "      penthaleus major          5          5      0.452          1      0.886      0.588\n",
      "longlegged spider mite          4          4      0.488       0.75      0.498      0.204\n",
      "    wheat phloeothrips          6          6      0.235        0.5      0.331      0.217\n",
      "          wheat sawfly         10         11       0.56       0.81      0.761       0.42\n",
      " cerodonta denticornis          2          2      0.317          1      0.398      0.289\n",
      "              beet fly          2          2          0          0      0.181     0.0578\n",
      "           flea beetle         24         27      0.707      0.889      0.871      0.526\n",
      "     cabbage army worm         17         17      0.161      0.271       0.16      0.123\n",
      "        beet army worm         29         29      0.463      0.724      0.571      0.402\n",
      "       Beet spot flies          5          5       0.43        0.8      0.654      0.437\n",
      "           meadow moth          7          8      0.157     0.0984      0.181      0.134\n",
      "           beet weevil         10         11      0.411      0.545      0.592      0.328\n",
      "sericaorient alismots chulsky          6         11      0.644      0.727      0.706      0.313\n",
      "        alfalfa weevil          6          7      0.066      0.143     0.0907     0.0583\n",
      "          flax budworm         29         31      0.298      0.323      0.348      0.239\n",
      "     alfalfa plant bug         16         16      0.457      0.527      0.394      0.181\n",
      "   tarnished plant bug         24         24      0.419      0.542      0.533      0.341\n",
      "           Locustoidea         37         39      0.483      0.667      0.629       0.32\n",
      "          lytta polita         17         21      0.373      0.524      0.362      0.182\n",
      " legume blister beetle         30         32       0.68      0.812      0.751      0.382\n",
      "        blister beetle         65         66      0.636      0.864      0.733      0.382\n",
      "     odontothrips loti          5          5      0.683      0.867      0.858      0.453\n",
      "                Thrips          3          3     0.0977      0.333      0.244      0.185\n",
      "  alfalfa seed chalcid          1          1          1          0     0.0829     0.0746\n",
      "        Pieris canidia          4          4       0.33        0.5      0.339      0.233\n",
      "      Apolygus lucorum          2          2      0.857        0.5      0.828      0.397\n",
      "           Limacodidae          7         30     0.0807     0.0333     0.0838     0.0332\n",
      "   oides decempunctata          9         13      0.856      0.846      0.853      0.424\n",
      "Pseudococcus comstocki Kuwana          4          4      0.586       0.75      0.836      0.461\n",
      "    parathrene regalis          2          2      0.259      0.531      0.695      0.556\n",
      "           Ampelophaga         20         20      0.793       0.95      0.885      0.675\n",
      "    Lycorma delicatula         24         24      0.964      0.958       0.97      0.628\n",
      "           Xylotrechus         11         11      0.548          1      0.995      0.824\n",
      "     Cicadella viridis         14         14      0.588      0.786      0.759      0.485\n",
      "               Miridae         89         89       0.61      0.899      0.762      0.458\n",
      "Trialeurodes vaporariorum          7          7      0.306      0.571      0.487      0.342\n",
      " Erythroneura apicalis          1          1          1          0      0.995      0.895\n",
      "        Papilio xuthus          7          8      0.383      0.853      0.474      0.303\n",
      "Panonchus citri McGregor          3          5      0.502      0.607      0.762      0.442\n",
      "Icerya purchasi Maskell         11         29      0.781      0.861      0.874      0.426\n",
      "    Unaspis yanonensis          2         45      0.551      0.844      0.765      0.303\n",
      "    Ceroplastes rubens          5         26      0.415      0.769      0.711      0.391\n",
      " Chrysomphalus aonidum          3          6      0.406          1      0.995      0.482\n",
      "  Nipaecoccus vastalor          2          2      0.129        0.5      0.137     0.0189\n",
      "Aleurocanthus spiniferus          4         23      0.255      0.304      0.253      0.103\n",
      "Tetradacus c Bactrocera minax           3          7      0.427      0.714       0.72      0.329\n",
      "Dacus dorsalis(Hendel)          8          8      0.351       0.75      0.733       0.55\n",
      "  Bactrocera tsuneonis          2          2          0          0      0.159      0.114\n",
      "       Prodenia litura         29         32      0.479      0.656      0.685       0.43\n",
      "         Adristyrannus          9          9      0.456      0.444      0.499      0.401\n",
      "Phyllocnistis citrella Stainton          2          2          1          0      0.308       0.23\n",
      "  Toxoptera citricidus          1          1          1          0      0.497      0.249\n",
      "    Toxoptera aurantii          2          2      0.514          1      0.663      0.332\n",
      "Scirtothrips dorsalis Hood          5          5      0.221        0.8      0.383      0.254\n",
      "          Dasineura sp          2          2          0          0     0.0248     0.0135\n",
      "Lawana imitata Melichar          9         11      0.575      0.863       0.73      0.543\n",
      "Salurnis marginella Guerr         12         13      0.643      0.769      0.777      0.578\n",
      "Deporaus marginatus Pascoe          4          4      0.348       0.25      0.171      0.102\n",
      "  Chlumetia transversa          4          4      0.454        0.5      0.558      0.508\n",
      "Mango flat beak leafhopper          1          1          1          0     0.0085     0.0068\n",
      "Rhytidodera bowrinii white         10         10      0.726        0.8      0.798      0.617\n",
      " Sternochetus frigidus          4          4      0.273        0.5      0.586      0.425\n",
      "          Cicadellidae        206        210      0.846      0.967      0.957      0.731\n",
      "Speed: 0.3ms preprocess, 5.7ms inference, 0.0ms loss, 1.4ms postprocess per image\n",
      "Results saved to \u001b[1mruns\\detect\\train113\u001b[0m\n",
      "Test Results:\n",
      "mAP@50: 0.3511\n"
     ]
    },
    {
     "ename": "AttributeError",
     "evalue": "'Metric' object has no attribute 'map50_95'. See valid attributes below.\n\n    Class for computing evaluation metrics for YOLOv8 model.\n\n    Attributes:\n        p (list): Precision for each class. Shape: (nc,).\n        r (list): Recall for each class. Shape: (nc,).\n        f1 (list): F1 score for each class. Shape: (nc,).\n        all_ap (list): AP scores for all classes and all IoU thresholds. Shape: (nc, 10).\n        ap_class_index (list): Index of class for each AP score. Shape: (nc,).\n        nc (int): Number of classes.\n\n    Methods:\n        ap50(): AP at IoU threshold of 0.5 for all classes. Returns: List of AP scores. Shape: (nc,) or [].\n        ap(): AP at IoU thresholds from 0.5 to 0.95 for all classes. Returns: List of AP scores. Shape: (nc,) or [].\n        mp(): Mean precision of all classes. Returns: Float.\n        mr(): Mean recall of all classes. Returns: Float.\n        map50(): Mean AP at IoU threshold of 0.5 for all classes. Returns: Float.\n        map75(): Mean AP at IoU threshold of 0.75 for all classes. Returns: Float.\n        map(): Mean AP at IoU thresholds from 0.5 to 0.95 for all classes. Returns: Float.\n        mean_results(): Mean of results, returns mp, mr, map50, map.\n        class_result(i): Class-aware result, returns p[i], r[i], ap50[i], ap[i].\n        maps(): mAP of each class. Returns: Array of mAP scores, shape: (nc,).\n        fitness(): Model fitness as a weighted combination of metrics. Returns: Float.\n        update(results): Update metric attributes with new evaluation results.\n    ",
     "output_type": "error",
     "traceback": [
      "\u001b[1;31m---------------------------------------------------------------------------\u001b[0m",
      "\u001b[1;31mAttributeError\u001b[0m                            Traceback (most recent call last)",
      "Cell \u001b[1;32mIn[5], line 11\u001b[0m\n\u001b[0;32m      9\u001b[0m \u001b[38;5;28mprint\u001b[39m(\u001b[38;5;124m\"\u001b[39m\u001b[38;5;124mTest Results:\u001b[39m\u001b[38;5;124m\"\u001b[39m)\n\u001b[0;32m     10\u001b[0m \u001b[38;5;28mprint\u001b[39m(\u001b[38;5;124mf\u001b[39m\u001b[38;5;124m\"\u001b[39m\u001b[38;5;124mmAP@50: \u001b[39m\u001b[38;5;132;01m{\u001b[39;00mmetrics\u001b[38;5;241m.\u001b[39mbox\u001b[38;5;241m.\u001b[39mmap\u001b[38;5;132;01m:\u001b[39;00m\u001b[38;5;124m.4f\u001b[39m\u001b[38;5;132;01m}\u001b[39;00m\u001b[38;5;124m\"\u001b[39m)\n\u001b[1;32m---> 11\u001b[0m \u001b[38;5;28mprint\u001b[39m(\u001b[38;5;124mf\u001b[39m\u001b[38;5;124m\"\u001b[39m\u001b[38;5;124mmAP@50-95: \u001b[39m\u001b[38;5;132;01m{\u001b[39;00mmetrics\u001b[38;5;241m.\u001b[39mbox\u001b[38;5;241m.\u001b[39mmap50_95\u001b[38;5;132;01m:\u001b[39;00m\u001b[38;5;124m.4f\u001b[39m\u001b[38;5;132;01m}\u001b[39;00m\u001b[38;5;124m\"\u001b[39m)\n\u001b[0;32m     13\u001b[0m \u001b[38;5;66;03m# Optionally export model for inference (ONNX, TensorRT, etc.)\u001b[39;00m\n\u001b[0;32m     14\u001b[0m model\u001b[38;5;241m.\u001b[39mexport(\u001b[38;5;28mformat\u001b[39m\u001b[38;5;241m=\u001b[39m\u001b[38;5;124m\"\u001b[39m\u001b[38;5;124monnx\u001b[39m\u001b[38;5;124m\"\u001b[39m)\n",
      "File \u001b[1;32m~\\AppData\\Roaming\\Python\\Python312\\site-packages\\ultralytics\\utils\\__init__.py:240\u001b[0m, in \u001b[0;36mSimpleClass.__getattr__\u001b[1;34m(self, attr)\u001b[0m\n\u001b[0;32m    238\u001b[0m \u001b[38;5;250m\u001b[39m\u001b[38;5;124;03m\"\"\"Custom attribute access error message with helpful information.\"\"\"\u001b[39;00m\n\u001b[0;32m    239\u001b[0m name \u001b[38;5;241m=\u001b[39m \u001b[38;5;28mself\u001b[39m\u001b[38;5;241m.\u001b[39m\u001b[38;5;18m__class__\u001b[39m\u001b[38;5;241m.\u001b[39m\u001b[38;5;18m__name__\u001b[39m\n\u001b[1;32m--> 240\u001b[0m \u001b[38;5;28;01mraise\u001b[39;00m \u001b[38;5;167;01mAttributeError\u001b[39;00m(\u001b[38;5;124mf\u001b[39m\u001b[38;5;124m\"\u001b[39m\u001b[38;5;124m'\u001b[39m\u001b[38;5;132;01m{\u001b[39;00mname\u001b[38;5;132;01m}\u001b[39;00m\u001b[38;5;124m'\u001b[39m\u001b[38;5;124m object has no attribute \u001b[39m\u001b[38;5;124m'\u001b[39m\u001b[38;5;132;01m{\u001b[39;00mattr\u001b[38;5;132;01m}\u001b[39;00m\u001b[38;5;124m'\u001b[39m\u001b[38;5;124m. See valid attributes below.\u001b[39m\u001b[38;5;130;01m\\n\u001b[39;00m\u001b[38;5;132;01m{\u001b[39;00m\u001b[38;5;28mself\u001b[39m\u001b[38;5;241m.\u001b[39m\u001b[38;5;18m__doc__\u001b[39m\u001b[38;5;132;01m}\u001b[39;00m\u001b[38;5;124m\"\u001b[39m)\n",
      "\u001b[1;31mAttributeError\u001b[0m: 'Metric' object has no attribute 'map50_95'. See valid attributes below.\n\n    Class for computing evaluation metrics for YOLOv8 model.\n\n    Attributes:\n        p (list): Precision for each class. Shape: (nc,).\n        r (list): Recall for each class. Shape: (nc,).\n        f1 (list): F1 score for each class. Shape: (nc,).\n        all_ap (list): AP scores for all classes and all IoU thresholds. Shape: (nc, 10).\n        ap_class_index (list): Index of class for each AP score. Shape: (nc,).\n        nc (int): Number of classes.\n\n    Methods:\n        ap50(): AP at IoU threshold of 0.5 for all classes. Returns: List of AP scores. Shape: (nc,) or [].\n        ap(): AP at IoU thresholds from 0.5 to 0.95 for all classes. Returns: List of AP scores. Shape: (nc,) or [].\n        mp(): Mean precision of all classes. Returns: Float.\n        mr(): Mean recall of all classes. Returns: Float.\n        map50(): Mean AP at IoU threshold of 0.5 for all classes. Returns: Float.\n        map75(): Mean AP at IoU threshold of 0.75 for all classes. Returns: Float.\n        map(): Mean AP at IoU thresholds from 0.5 to 0.95 for all classes. Returns: Float.\n        mean_results(): Mean of results, returns mp, mr, map50, map.\n        class_result(i): Class-aware result, returns p[i], r[i], ap50[i], ap[i].\n        maps(): mAP of each class. Returns: Array of mAP scores, shape: (nc,).\n        fitness(): Model fitness as a weighted combination of metrics. Returns: Float.\n        update(results): Update metric attributes with new evaluation results.\n    "
     ]
    }
   ],
   "source": [
    "# Save trained model manually (if needed)\n",
    "model.save(\"best_yolov8n.pt\")\n",
    "\n",
    "# Evaluate model performance on test dataset\n",
    "metrics = model.val(data=\"IP102_YOLOv5/ip102.yaml\", split=\"val\")\n",
    "\n",
    "\n",
    "# Print test accuracy results\n",
    "print(\"Test Results:\")\n",
    "print(f\"mAP@50: {metrics.box.map:.4f}\")\n",
    "print(f\"mAP@50-95: {metrics.box.map50_95:.4f}\")\n",
    "\n",
    "# Optionally export model for inference (ONNX, TensorRT, etc.)\n",
    "model.export(format=\"onnx\")  "
   ]
  },
  {
   "cell_type": "code",
   "execution_count": 3,
   "id": "a63f484a-8365-414d-abb8-77a62632a663",
   "metadata": {},
   "outputs": [
    {
     "name": "stdout",
     "output_type": "stream",
     "text": [
      "False\n"
     ]
    },
    {
     "ename": "AssertionError",
     "evalue": "Torch not compiled with CUDA enabled",
     "output_type": "error",
     "traceback": [
      "\u001b[1;31m---------------------------------------------------------------------------\u001b[0m",
      "\u001b[1;31mAssertionError\u001b[0m                            Traceback (most recent call last)",
      "Cell \u001b[1;32mIn[3], line 3\u001b[0m\n\u001b[0;32m      1\u001b[0m \u001b[38;5;28;01mimport\u001b[39;00m \u001b[38;5;21;01mtorch\u001b[39;00m\n\u001b[0;32m      2\u001b[0m \u001b[38;5;28mprint\u001b[39m(torch\u001b[38;5;241m.\u001b[39mcuda\u001b[38;5;241m.\u001b[39mis_available())\n\u001b[1;32m----> 3\u001b[0m \u001b[38;5;28mprint\u001b[39m(torch\u001b[38;5;241m.\u001b[39mcuda\u001b[38;5;241m.\u001b[39mget_device_name(\u001b[38;5;241m0\u001b[39m))\n",
      "File \u001b[1;32mD:\\anaconda3\\Lib\\site-packages\\torch\\cuda\\__init__.py:493\u001b[0m, in \u001b[0;36mget_device_name\u001b[1;34m(device)\u001b[0m\n\u001b[0;32m    481\u001b[0m \u001b[38;5;28;01mdef\u001b[39;00m \u001b[38;5;21mget_device_name\u001b[39m(device: Optional[_device_t] \u001b[38;5;241m=\u001b[39m \u001b[38;5;28;01mNone\u001b[39;00m) \u001b[38;5;241m-\u001b[39m\u001b[38;5;241m>\u001b[39m \u001b[38;5;28mstr\u001b[39m:\n\u001b[0;32m    482\u001b[0m \u001b[38;5;250m    \u001b[39m\u001b[38;5;124mr\u001b[39m\u001b[38;5;124;03m\"\"\"Get the name of a device.\u001b[39;00m\n\u001b[0;32m    483\u001b[0m \n\u001b[0;32m    484\u001b[0m \u001b[38;5;124;03m    Args:\u001b[39;00m\n\u001b[1;32m   (...)\u001b[0m\n\u001b[0;32m    491\u001b[0m \u001b[38;5;124;03m        str: the name of the device\u001b[39;00m\n\u001b[0;32m    492\u001b[0m \u001b[38;5;124;03m    \"\"\"\u001b[39;00m\n\u001b[1;32m--> 493\u001b[0m     \u001b[38;5;28;01mreturn\u001b[39;00m get_device_properties(device)\u001b[38;5;241m.\u001b[39mname\n",
      "File \u001b[1;32mD:\\anaconda3\\Lib\\site-packages\\torch\\cuda\\__init__.py:523\u001b[0m, in \u001b[0;36mget_device_properties\u001b[1;34m(device)\u001b[0m\n\u001b[0;32m    513\u001b[0m \u001b[38;5;28;01mdef\u001b[39;00m \u001b[38;5;21mget_device_properties\u001b[39m(device: _device_t) \u001b[38;5;241m-\u001b[39m\u001b[38;5;241m>\u001b[39m _CudaDeviceProperties:\n\u001b[0;32m    514\u001b[0m \u001b[38;5;250m    \u001b[39m\u001b[38;5;124mr\u001b[39m\u001b[38;5;124;03m\"\"\"Get the properties of a device.\u001b[39;00m\n\u001b[0;32m    515\u001b[0m \n\u001b[0;32m    516\u001b[0m \u001b[38;5;124;03m    Args:\u001b[39;00m\n\u001b[1;32m   (...)\u001b[0m\n\u001b[0;32m    521\u001b[0m \u001b[38;5;124;03m        _CudaDeviceProperties: the properties of the device\u001b[39;00m\n\u001b[0;32m    522\u001b[0m \u001b[38;5;124;03m    \"\"\"\u001b[39;00m\n\u001b[1;32m--> 523\u001b[0m     _lazy_init()  \u001b[38;5;66;03m# will define _get_device_properties\u001b[39;00m\n\u001b[0;32m    524\u001b[0m     device \u001b[38;5;241m=\u001b[39m _get_device_index(device, optional\u001b[38;5;241m=\u001b[39m\u001b[38;5;28;01mTrue\u001b[39;00m)\n\u001b[0;32m    525\u001b[0m     \u001b[38;5;28;01mif\u001b[39;00m device \u001b[38;5;241m<\u001b[39m \u001b[38;5;241m0\u001b[39m \u001b[38;5;129;01mor\u001b[39;00m device \u001b[38;5;241m>\u001b[39m\u001b[38;5;241m=\u001b[39m device_count():\n",
      "File \u001b[1;32mD:\\anaconda3\\Lib\\site-packages\\torch\\cuda\\__init__.py:310\u001b[0m, in \u001b[0;36m_lazy_init\u001b[1;34m()\u001b[0m\n\u001b[0;32m    305\u001b[0m     \u001b[38;5;28;01mraise\u001b[39;00m \u001b[38;5;167;01mRuntimeError\u001b[39;00m(\n\u001b[0;32m    306\u001b[0m         \u001b[38;5;124m\"\u001b[39m\u001b[38;5;124mCannot re-initialize CUDA in forked subprocess. To use CUDA with \u001b[39m\u001b[38;5;124m\"\u001b[39m\n\u001b[0;32m    307\u001b[0m         \u001b[38;5;124m\"\u001b[39m\u001b[38;5;124mmultiprocessing, you must use the \u001b[39m\u001b[38;5;124m'\u001b[39m\u001b[38;5;124mspawn\u001b[39m\u001b[38;5;124m'\u001b[39m\u001b[38;5;124m start method\u001b[39m\u001b[38;5;124m\"\u001b[39m\n\u001b[0;32m    308\u001b[0m     )\n\u001b[0;32m    309\u001b[0m \u001b[38;5;28;01mif\u001b[39;00m \u001b[38;5;129;01mnot\u001b[39;00m \u001b[38;5;28mhasattr\u001b[39m(torch\u001b[38;5;241m.\u001b[39m_C, \u001b[38;5;124m\"\u001b[39m\u001b[38;5;124m_cuda_getDeviceCount\u001b[39m\u001b[38;5;124m\"\u001b[39m):\n\u001b[1;32m--> 310\u001b[0m     \u001b[38;5;28;01mraise\u001b[39;00m \u001b[38;5;167;01mAssertionError\u001b[39;00m(\u001b[38;5;124m\"\u001b[39m\u001b[38;5;124mTorch not compiled with CUDA enabled\u001b[39m\u001b[38;5;124m\"\u001b[39m)\n\u001b[0;32m    311\u001b[0m \u001b[38;5;28;01mif\u001b[39;00m _cudart \u001b[38;5;129;01mis\u001b[39;00m \u001b[38;5;28;01mNone\u001b[39;00m:\n\u001b[0;32m    312\u001b[0m     \u001b[38;5;28;01mraise\u001b[39;00m \u001b[38;5;167;01mAssertionError\u001b[39;00m(\n\u001b[0;32m    313\u001b[0m         \u001b[38;5;124m\"\u001b[39m\u001b[38;5;124mlibcudart functions unavailable. It looks like you have a broken build?\u001b[39m\u001b[38;5;124m\"\u001b[39m\n\u001b[0;32m    314\u001b[0m     )\n",
      "\u001b[1;31mAssertionError\u001b[0m: Torch not compiled with CUDA enabled"
     ]
    }
   ],
   "source": [
    "import torch\n",
    "print(torch.cuda.is_available())\n",
    "print(torch.cuda.get_device_name(0))\n"
   ]
  },
  {
   "cell_type": "code",
   "execution_count": 5,
   "id": "1c4ce41f-9ed2-474a-bb41-ef55d9478820",
   "metadata": {},
   "outputs": [
    {
     "name": "stdout",
     "output_type": "stream",
     "text": [
      "Found existing installation: torch 2.5.1\n",
      "Uninstalling torch-2.5.1:\n",
      "Note: you may need to restart the kernel to use updated packages.\n"
     ]
    },
    {
     "name": "stderr",
     "output_type": "stream",
     "text": [
      "ERROR: Exception:\n",
      "Traceback (most recent call last):\n",
      "  File \"D:\\anaconda3\\Lib\\shutil.py\", line 847, in move\n",
      "    os.rename(src, real_dst)\n",
      "PermissionError: [WinError 5] Access is denied: 'd:\\\\anaconda3\\\\lib\\\\site-packages\\\\functorch\\\\' -> 'C:\\\\Users\\\\shikh\\\\AppData\\\\Local\\\\Temp\\\\pip-uninstall-bnv25yy_'\n",
      "\n",
      "During handling of the above exception, another exception occurred:\n",
      "\n",
      "Traceback (most recent call last):\n",
      "  File \"D:\\anaconda3\\Lib\\site-packages\\pip\\_internal\\cli\\base_command.py\", line 180, in exc_logging_wrapper\n",
      "    status = run_func(*args)\n",
      "             ^^^^^^^^^^^^^^^\n",
      "  File \"D:\\anaconda3\\Lib\\site-packages\\pip\\_internal\\commands\\uninstall.py\", line 105, in run\n",
      "    uninstall_pathset = req.uninstall(\n",
      "                        ^^^^^^^^^^^^^^\n",
      "  File \"D:\\anaconda3\\Lib\\site-packages\\pip\\_internal\\req\\req_install.py\", line 727, in uninstall\n",
      "    uninstalled_pathset.remove(auto_confirm, verbose)\n",
      "  File \"D:\\anaconda3\\Lib\\site-packages\\pip\\_internal\\req\\req_uninstall.py\", line 380, in remove\n",
      "    moved.stash(path)\n",
      "  File \"D:\\anaconda3\\Lib\\site-packages\\pip\\_internal\\req\\req_uninstall.py\", line 271, in stash\n",
      "    renames(path, new_path)\n",
      "  File \"D:\\anaconda3\\Lib\\site-packages\\pip\\_internal\\utils\\misc.py\", line 358, in renames\n",
      "    shutil.move(old, new)\n",
      "  File \"D:\\anaconda3\\Lib\\shutil.py\", line 865, in move\n",
      "    rmtree(src)\n",
      "  File \"D:\\anaconda3\\Lib\\shutil.py\", line 781, in rmtree\n",
      "    return _rmtree_unsafe(path, onexc)\n",
      "           ^^^^^^^^^^^^^^^^^^^^^^^^^^^\n",
      "  File \"D:\\anaconda3\\Lib\\shutil.py\", line 635, in _rmtree_unsafe\n",
      "    onexc(os.unlink, fullname, err)\n",
      "  File \"D:\\anaconda3\\Lib\\shutil.py\", line 633, in _rmtree_unsafe\n",
      "    os.unlink(fullname)\n",
      "PermissionError: [WinError 5] Access is denied: 'd:\\\\anaconda3\\\\lib\\\\site-packages\\\\functorch\\\\compile\\\\__pycache__\\\\__init__.cpython-312.pyc'\n"
     ]
    }
   ],
   "source": [
    "pip uninstall torch torchvision torchaudio -y\n"
   ]
  },
  {
   "cell_type": "code",
   "execution_count": null,
   "id": "93d13068-8415-42c3-952d-dce9c6ec1eab",
   "metadata": {},
   "outputs": [],
   "source": []
  }
 ],
 "metadata": {
  "kernelspec": {
   "display_name": "Python 3 (ipykernel)",
   "language": "python",
   "name": "python3"
  },
  "language_info": {
   "codemirror_mode": {
    "name": "ipython",
    "version": 3
   },
   "file_extension": ".py",
   "mimetype": "text/x-python",
   "name": "python",
   "nbconvert_exporter": "python",
   "pygments_lexer": "ipython3",
   "version": "3.12.4"
  }
 },
 "nbformat": 4,
 "nbformat_minor": 5
}
